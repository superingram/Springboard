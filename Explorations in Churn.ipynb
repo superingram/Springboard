{
 "cells": [
  {
   "cell_type": "code",
   "execution_count": 127,
   "metadata": {},
   "outputs": [],
   "source": [
    "#imports\n",
    "import numpy as np\n",
    "import pandas as pd\n",
    "import matplotlib.pyplot as plt\n",
    "import seaborn as sns\n",
    "import os\n",
    "from sklearn import tree\n",
    "from sklearn.linear_model import LogisticRegression\n",
    "from sklearn.tree import DecisionTreeClassifier\n",
    "from sklearn.model_selection import train_test_split\n",
    "from sklearn.ensemble import RandomForestClassifier\n",
    "from sklearn.metrics import accuracy_score\n",
    "from sklearn.svm import SVC\n",
    "from sklearn.metrics import confusion_matrix\n",
    "from sklearn.metrics import precision_score, recall_score\n",
    "from sklearn.metrics import roc_curve\n",
    "from sklearn.metrics import roc_auc_score\n",
    "from sklearn.model_selection import GridSearchCV\n",
    "from sklearn.model_selection import RandomizedSearchCV\n",
    "from sklearn.metrics import f1_score\n",
    "from sklearn.preprocessing import StandardScaler\n",
    "\n"
   ]
  },
  {
   "cell_type": "code",
   "execution_count": 31,
   "metadata": {},
   "outputs": [],
   "source": [
    "#Import the churn data set\n",
    "df = pd.read_csv('churn.csv')"
   ]
  },
  {
   "cell_type": "code",
   "execution_count": 34,
   "metadata": {},
   "outputs": [
    {
     "name": "stdout",
     "output_type": "stream",
     "text": [
      "<class 'pandas.core.frame.DataFrame'>\n",
      "RangeIndex: 3333 entries, 0 to 3332\n",
      "Data columns (total 21 columns):\n",
      " #   Column          Non-Null Count  Dtype  \n",
      "---  ------          --------------  -----  \n",
      " 0   Account_Length  3333 non-null   int64  \n",
      " 1   Vmail_Message   3333 non-null   int64  \n",
      " 2   Day_Mins        3333 non-null   float64\n",
      " 3   Eve_Mins        3333 non-null   float64\n",
      " 4   Night_Mins      3333 non-null   float64\n",
      " 5   Intl_Mins       3333 non-null   float64\n",
      " 6   CustServ_Calls  3333 non-null   int64  \n",
      " 7   Churn           3333 non-null   object \n",
      " 8   Intl_Plan       3333 non-null   object \n",
      " 9   Vmail_Plan      3333 non-null   object \n",
      " 10  Day_Calls       3333 non-null   int64  \n",
      " 11  Day_Charge      3333 non-null   float64\n",
      " 12  Eve_Calls       3333 non-null   int64  \n",
      " 13  Eve_Charge      3333 non-null   float64\n",
      " 14  Night_Calls     3333 non-null   int64  \n",
      " 15  Night_Charge    3333 non-null   float64\n",
      " 16  Intl_Calls      3333 non-null   int64  \n",
      " 17  Intl_Charge     3333 non-null   float64\n",
      " 18  State           3333 non-null   object \n",
      " 19  Area_Code       3333 non-null   int64  \n",
      " 20  Phone           3333 non-null   object \n",
      "dtypes: float64(8), int64(8), object(5)\n",
      "memory usage: 546.9+ KB\n"
     ]
    }
   ],
   "source": [
    "#Explore the data\n",
    "df.info()"
   ]
  },
  {
   "cell_type": "code",
   "execution_count": 35,
   "metadata": {},
   "outputs": [
    {
     "data": {
      "text/html": [
       "<div>\n",
       "<style scoped>\n",
       "    .dataframe tbody tr th:only-of-type {\n",
       "        vertical-align: middle;\n",
       "    }\n",
       "\n",
       "    .dataframe tbody tr th {\n",
       "        vertical-align: top;\n",
       "    }\n",
       "\n",
       "    .dataframe thead th {\n",
       "        text-align: right;\n",
       "    }\n",
       "</style>\n",
       "<table border=\"1\" class=\"dataframe\">\n",
       "  <thead>\n",
       "    <tr style=\"text-align: right;\">\n",
       "      <th></th>\n",
       "      <th>Account_Length</th>\n",
       "      <th>Vmail_Message</th>\n",
       "      <th>Day_Mins</th>\n",
       "      <th>Eve_Mins</th>\n",
       "      <th>Night_Mins</th>\n",
       "      <th>Intl_Mins</th>\n",
       "      <th>CustServ_Calls</th>\n",
       "      <th>Churn</th>\n",
       "      <th>Intl_Plan</th>\n",
       "      <th>Vmail_Plan</th>\n",
       "      <th>...</th>\n",
       "      <th>Day_Charge</th>\n",
       "      <th>Eve_Calls</th>\n",
       "      <th>Eve_Charge</th>\n",
       "      <th>Night_Calls</th>\n",
       "      <th>Night_Charge</th>\n",
       "      <th>Intl_Calls</th>\n",
       "      <th>Intl_Charge</th>\n",
       "      <th>State</th>\n",
       "      <th>Area_Code</th>\n",
       "      <th>Phone</th>\n",
       "    </tr>\n",
       "  </thead>\n",
       "  <tbody>\n",
       "    <tr>\n",
       "      <th>0</th>\n",
       "      <td>128</td>\n",
       "      <td>25</td>\n",
       "      <td>265.1</td>\n",
       "      <td>197.4</td>\n",
       "      <td>244.7</td>\n",
       "      <td>10.0</td>\n",
       "      <td>1</td>\n",
       "      <td>no</td>\n",
       "      <td>no</td>\n",
       "      <td>yes</td>\n",
       "      <td>...</td>\n",
       "      <td>45.07</td>\n",
       "      <td>99</td>\n",
       "      <td>16.78</td>\n",
       "      <td>91</td>\n",
       "      <td>11.01</td>\n",
       "      <td>3</td>\n",
       "      <td>2.70</td>\n",
       "      <td>KS</td>\n",
       "      <td>415</td>\n",
       "      <td>382-4657</td>\n",
       "    </tr>\n",
       "    <tr>\n",
       "      <th>1</th>\n",
       "      <td>107</td>\n",
       "      <td>26</td>\n",
       "      <td>161.6</td>\n",
       "      <td>195.5</td>\n",
       "      <td>254.4</td>\n",
       "      <td>13.7</td>\n",
       "      <td>1</td>\n",
       "      <td>no</td>\n",
       "      <td>no</td>\n",
       "      <td>yes</td>\n",
       "      <td>...</td>\n",
       "      <td>27.47</td>\n",
       "      <td>103</td>\n",
       "      <td>16.62</td>\n",
       "      <td>103</td>\n",
       "      <td>11.45</td>\n",
       "      <td>3</td>\n",
       "      <td>3.70</td>\n",
       "      <td>OH</td>\n",
       "      <td>415</td>\n",
       "      <td>371-7191</td>\n",
       "    </tr>\n",
       "    <tr>\n",
       "      <th>2</th>\n",
       "      <td>137</td>\n",
       "      <td>0</td>\n",
       "      <td>243.4</td>\n",
       "      <td>121.2</td>\n",
       "      <td>162.6</td>\n",
       "      <td>12.2</td>\n",
       "      <td>0</td>\n",
       "      <td>no</td>\n",
       "      <td>no</td>\n",
       "      <td>no</td>\n",
       "      <td>...</td>\n",
       "      <td>41.38</td>\n",
       "      <td>110</td>\n",
       "      <td>10.30</td>\n",
       "      <td>104</td>\n",
       "      <td>7.32</td>\n",
       "      <td>5</td>\n",
       "      <td>3.29</td>\n",
       "      <td>NJ</td>\n",
       "      <td>415</td>\n",
       "      <td>358-1921</td>\n",
       "    </tr>\n",
       "    <tr>\n",
       "      <th>3</th>\n",
       "      <td>84</td>\n",
       "      <td>0</td>\n",
       "      <td>299.4</td>\n",
       "      <td>61.9</td>\n",
       "      <td>196.9</td>\n",
       "      <td>6.6</td>\n",
       "      <td>2</td>\n",
       "      <td>no</td>\n",
       "      <td>yes</td>\n",
       "      <td>no</td>\n",
       "      <td>...</td>\n",
       "      <td>50.90</td>\n",
       "      <td>88</td>\n",
       "      <td>5.26</td>\n",
       "      <td>89</td>\n",
       "      <td>8.86</td>\n",
       "      <td>7</td>\n",
       "      <td>1.78</td>\n",
       "      <td>OH</td>\n",
       "      <td>408</td>\n",
       "      <td>375-9999</td>\n",
       "    </tr>\n",
       "    <tr>\n",
       "      <th>4</th>\n",
       "      <td>75</td>\n",
       "      <td>0</td>\n",
       "      <td>166.7</td>\n",
       "      <td>148.3</td>\n",
       "      <td>186.9</td>\n",
       "      <td>10.1</td>\n",
       "      <td>3</td>\n",
       "      <td>no</td>\n",
       "      <td>yes</td>\n",
       "      <td>no</td>\n",
       "      <td>...</td>\n",
       "      <td>28.34</td>\n",
       "      <td>122</td>\n",
       "      <td>12.61</td>\n",
       "      <td>121</td>\n",
       "      <td>8.41</td>\n",
       "      <td>3</td>\n",
       "      <td>2.73</td>\n",
       "      <td>OK</td>\n",
       "      <td>415</td>\n",
       "      <td>330-6626</td>\n",
       "    </tr>\n",
       "  </tbody>\n",
       "</table>\n",
       "<p>5 rows × 21 columns</p>\n",
       "</div>"
      ],
      "text/plain": [
       "   Account_Length  Vmail_Message  Day_Mins  Eve_Mins  Night_Mins  Intl_Mins  \\\n",
       "0             128             25     265.1     197.4       244.7       10.0   \n",
       "1             107             26     161.6     195.5       254.4       13.7   \n",
       "2             137              0     243.4     121.2       162.6       12.2   \n",
       "3              84              0     299.4      61.9       196.9        6.6   \n",
       "4              75              0     166.7     148.3       186.9       10.1   \n",
       "\n",
       "   CustServ_Calls Churn Intl_Plan Vmail_Plan  ...  Day_Charge  Eve_Calls  \\\n",
       "0               1    no        no        yes  ...       45.07         99   \n",
       "1               1    no        no        yes  ...       27.47        103   \n",
       "2               0    no        no         no  ...       41.38        110   \n",
       "3               2    no       yes         no  ...       50.90         88   \n",
       "4               3    no       yes         no  ...       28.34        122   \n",
       "\n",
       "   Eve_Charge  Night_Calls  Night_Charge  Intl_Calls  Intl_Charge  State  \\\n",
       "0       16.78           91         11.01           3         2.70     KS   \n",
       "1       16.62          103         11.45           3         3.70     OH   \n",
       "2       10.30          104          7.32           5         3.29     NJ   \n",
       "3        5.26           89          8.86           7         1.78     OH   \n",
       "4       12.61          121          8.41           3         2.73     OK   \n",
       "\n",
       "  Area_Code     Phone  \n",
       "0       415  382-4657  \n",
       "1       415  371-7191  \n",
       "2       415  358-1921  \n",
       "3       408  375-9999  \n",
       "4       415  330-6626  \n",
       "\n",
       "[5 rows x 21 columns]"
      ]
     },
     "execution_count": 35,
     "metadata": {},
     "output_type": "execute_result"
    }
   ],
   "source": [
    "#Explore data colums\n",
    "df.head()"
   ]
  },
  {
   "cell_type": "code",
   "execution_count": 36,
   "metadata": {},
   "outputs": [],
   "source": [
    "# This tells us a great deal already as there are no missing values, We have our target in Churn, and there are some\n",
    "#object variables that need to be converted.  Phone and Area Code can be dropped so let's do that now.\n",
    "\n",
    "df = df.drop(['Area_Code', 'Phone'], axis = 1)"
   ]
  },
  {
   "cell_type": "code",
   "execution_count": 37,
   "metadata": {},
   "outputs": [
    {
     "name": "stdout",
     "output_type": "stream",
     "text": [
      "Index(['Account_Length', 'Vmail_Message', 'Day_Mins', 'Eve_Mins', 'Night_Mins',\n",
      "       'Intl_Mins', 'CustServ_Calls', 'Churn', 'Intl_Plan', 'Vmail_Plan',\n",
      "       'Day_Calls', 'Day_Charge', 'Eve_Calls', 'Eve_Charge', 'Night_Calls',\n",
      "       'Night_Charge', 'Intl_Calls', 'Intl_Charge', 'State'],\n",
      "      dtype='object')\n"
     ]
    }
   ],
   "source": [
    "#Let's make sure that they are gone.\n",
    "print(df.columns)"
   ]
  },
  {
   "cell_type": "code",
   "execution_count": 39,
   "metadata": {},
   "outputs": [
    {
     "data": {
      "image/png": "[encoded data removed]",
      "text/plain": [
       "<Figure size 720x720 with 1 Axes>"
      ]
     },
     "metadata": {
      "needs_background": "light"
     },
     "output_type": "display_data"
    }
   ],
   "source": [
    "#There are object columns that have to be converted to numeric for modeling unless we want to use a decision tree. \n",
    "#Single trees are great for EDA and visualization but have poor predictive power.  One of these values is the State variable.\n",
    "#Let's take a look at it to see if this may be a relative variable.  One-hot encoding may be needed here.\n",
    "\n",
    "plt.figure(figsize=(10,10))\n",
    "df.State.value_counts().plot(kind='barh')\n",
    "plt.title('State')\n",
    "plt.xlabel('Count')\n",
    "plt.show()"
   ]
  },
  {
   "cell_type": "code",
   "execution_count": 41,
   "metadata": {},
   "outputs": [
    {
     "name": "stdout",
     "output_type": "stream",
     "text": [
      "Churn\n",
      "no     85.508551\n",
      "yes    14.491449\n",
      "dtype: float64\n"
     ]
    }
   ],
   "source": [
    "#What is going on in West Virginia?  California is the lowest which is strange for it's size. \n",
    "# This may need to be explored a little.  Let's see about the percentage of churn vs. no churn. \n",
    "# If the percantage is below 5% then we may have an overfitting problem.\n",
    "\n",
    "print(df.groupby(['Churn']).size() / df.shape[0] * 100)"
   ]
  },
  {
   "cell_type": "code",
   "execution_count": 42,
   "metadata": {},
   "outputs": [
    {
     "name": "stdout",
     "output_type": "stream",
     "text": [
      "Index(['Account_Length', 'Vmail_Message', 'Day_Mins', 'Eve_Mins', 'Night_Mins',\n",
      "       'Intl_Mins', 'CustServ_Calls', 'Churn', 'Intl_Plan', 'Vmail_Plan',\n",
      "       'Day_Calls', 'Day_Charge', 'Eve_Calls', 'Eve_Charge', 'Night_Calls',\n",
      "       'Night_Charge', 'Intl_Calls', 'Intl_Charge', 'State', 'Avg_Day_Calls',\n",
      "       'Avg_Eve_Calls', 'Avg_Intl_Calls', 'Avg_Night_Calls'],\n",
      "      dtype='object')\n"
     ]
    }
   ],
   "source": [
    "#Only around 14% of the samples have churned which is not ideal but we should be able to model the data.\n",
    "#Before we convert the categorical variables, let's do some feature engineering because there are some columns that\n",
    "#may need to be combined or eliminated. The International, daytime, nighttime and evening call minutes can be divided\n",
    "#by their respective total calls for average call minutes per call.  Let's do that now.\n",
    "\n",
    "df['Avg_Day_Calls'] = df['Day_Mins'] / df['Day_Calls']\n",
    "df['Avg_Eve_Calls'] = df['Eve_Mins'] / df['Eve_Calls']\n",
    "df['Avg_Intl_Calls'] = df['Intl_Mins'] / df['Intl_Calls']\n",
    "df['Avg_Night_Calls'] = df['Night_Mins'] / df['Night_Calls']\n",
    "\n",
    "#And let's check the columns/indexes\n",
    "\n",
    "print(df.columns)"
   ]
  },
  {
   "cell_type": "code",
   "execution_count": 46,
   "metadata": {},
   "outputs": [
    {
     "data": {
      "text/html": [
       "<div>\n",
       "<style scoped>\n",
       "    .dataframe tbody tr th:only-of-type {\n",
       "        vertical-align: middle;\n",
       "    }\n",
       "\n",
       "    .dataframe tbody tr th {\n",
       "        vertical-align: top;\n",
       "    }\n",
       "\n",
       "    .dataframe thead th {\n",
       "        text-align: right;\n",
       "    }\n",
       "</style>\n",
       "<table border=\"1\" class=\"dataframe\">\n",
       "  <thead>\n",
       "    <tr style=\"text-align: right;\">\n",
       "      <th></th>\n",
       "      <th>Account_Length</th>\n",
       "      <th>Vmail_Message</th>\n",
       "      <th>CustServ_Calls</th>\n",
       "      <th>Churn</th>\n",
       "      <th>Intl_Plan</th>\n",
       "      <th>Vmail_Plan</th>\n",
       "      <th>Day_Charge</th>\n",
       "      <th>Eve_Charge</th>\n",
       "      <th>Night_Charge</th>\n",
       "      <th>Intl_Charge</th>\n",
       "      <th>State</th>\n",
       "      <th>Avg_Day_Calls</th>\n",
       "      <th>Avg_Eve_Calls</th>\n",
       "      <th>Avg_Intl_Calls</th>\n",
       "      <th>Avg_Night_Calls</th>\n",
       "    </tr>\n",
       "  </thead>\n",
       "  <tbody>\n",
       "    <tr>\n",
       "      <th>0</th>\n",
       "      <td>128</td>\n",
       "      <td>25</td>\n",
       "      <td>1</td>\n",
       "      <td>no</td>\n",
       "      <td>no</td>\n",
       "      <td>yes</td>\n",
       "      <td>45.07</td>\n",
       "      <td>16.78</td>\n",
       "      <td>11.01</td>\n",
       "      <td>2.70</td>\n",
       "      <td>KS</td>\n",
       "      <td>2.410000</td>\n",
       "      <td>1.993939</td>\n",
       "      <td>3.333333</td>\n",
       "      <td>2.689011</td>\n",
       "    </tr>\n",
       "    <tr>\n",
       "      <th>1</th>\n",
       "      <td>107</td>\n",
       "      <td>26</td>\n",
       "      <td>1</td>\n",
       "      <td>no</td>\n",
       "      <td>no</td>\n",
       "      <td>yes</td>\n",
       "      <td>27.47</td>\n",
       "      <td>16.62</td>\n",
       "      <td>11.45</td>\n",
       "      <td>3.70</td>\n",
       "      <td>OH</td>\n",
       "      <td>1.313821</td>\n",
       "      <td>1.898058</td>\n",
       "      <td>4.566667</td>\n",
       "      <td>2.469903</td>\n",
       "    </tr>\n",
       "    <tr>\n",
       "      <th>2</th>\n",
       "      <td>137</td>\n",
       "      <td>0</td>\n",
       "      <td>0</td>\n",
       "      <td>no</td>\n",
       "      <td>no</td>\n",
       "      <td>no</td>\n",
       "      <td>41.38</td>\n",
       "      <td>10.30</td>\n",
       "      <td>7.32</td>\n",
       "      <td>3.29</td>\n",
       "      <td>NJ</td>\n",
       "      <td>2.135088</td>\n",
       "      <td>1.101818</td>\n",
       "      <td>2.440000</td>\n",
       "      <td>1.563462</td>\n",
       "    </tr>\n",
       "    <tr>\n",
       "      <th>3</th>\n",
       "      <td>84</td>\n",
       "      <td>0</td>\n",
       "      <td>2</td>\n",
       "      <td>no</td>\n",
       "      <td>yes</td>\n",
       "      <td>no</td>\n",
       "      <td>50.90</td>\n",
       "      <td>5.26</td>\n",
       "      <td>8.86</td>\n",
       "      <td>1.78</td>\n",
       "      <td>OH</td>\n",
       "      <td>4.216901</td>\n",
       "      <td>0.703409</td>\n",
       "      <td>0.942857</td>\n",
       "      <td>2.212360</td>\n",
       "    </tr>\n",
       "    <tr>\n",
       "      <th>4</th>\n",
       "      <td>75</td>\n",
       "      <td>0</td>\n",
       "      <td>3</td>\n",
       "      <td>no</td>\n",
       "      <td>yes</td>\n",
       "      <td>no</td>\n",
       "      <td>28.34</td>\n",
       "      <td>12.61</td>\n",
       "      <td>8.41</td>\n",
       "      <td>2.73</td>\n",
       "      <td>OK</td>\n",
       "      <td>1.475221</td>\n",
       "      <td>1.215574</td>\n",
       "      <td>3.366667</td>\n",
       "      <td>1.544628</td>\n",
       "    </tr>\n",
       "  </tbody>\n",
       "</table>\n",
       "</div>"
      ],
      "text/plain": [
       "   Account_Length  Vmail_Message  CustServ_Calls Churn Intl_Plan Vmail_Plan  \\\n",
       "0             128             25               1    no        no        yes   \n",
       "1             107             26               1    no        no        yes   \n",
       "2             137              0               0    no        no         no   \n",
       "3              84              0               2    no       yes         no   \n",
       "4              75              0               3    no       yes         no   \n",
       "\n",
       "   Day_Charge  Eve_Charge  Night_Charge  Intl_Charge State  Avg_Day_Calls  \\\n",
       "0       45.07       16.78         11.01         2.70    KS       2.410000   \n",
       "1       27.47       16.62         11.45         3.70    OH       1.313821   \n",
       "2       41.38       10.30          7.32         3.29    NJ       2.135088   \n",
       "3       50.90        5.26          8.86         1.78    OH       4.216901   \n",
       "4       28.34       12.61          8.41         2.73    OK       1.475221   \n",
       "\n",
       "   Avg_Eve_Calls  Avg_Intl_Calls  Avg_Night_Calls  \n",
       "0       1.993939        3.333333         2.689011  \n",
       "1       1.898058        4.566667         2.469903  \n",
       "2       1.101818        2.440000         1.563462  \n",
       "3       0.703409        0.942857         2.212360  \n",
       "4       1.215574        3.366667         1.544628  "
      ]
     },
     "execution_count": 46,
     "metadata": {},
     "output_type": "execute_result"
    }
   ],
   "source": [
    "#Now, we can create a new dataframe with the previous features dropped by subetting.  That way if there is an error, we can revert\n",
    "#back to the original df.\n",
    "\n",
    "df_new = df[['Account_Length', 'Vmail_Message', 'CustServ_Calls', 'Churn', 'Intl_Plan', 'Vmail_Plan', 'Day_Charge', 'Eve_Charge',\n",
    "       'Night_Charge', 'Intl_Charge', 'State', 'Avg_Day_Calls',\n",
    "       'Avg_Eve_Calls', 'Avg_Intl_Calls', 'Avg_Night_Calls' ]]\n",
    "df_new.head()\n"
   ]
  },
  {
   "cell_type": "code",
   "execution_count": 52,
   "metadata": {},
   "outputs": [
    {
     "name": "stdout",
     "output_type": "stream",
     "text": [
      "State  Churn\n",
      "AK     no       49\n",
      "       yes       3\n",
      "AL     no       72\n",
      "       yes       8\n",
      "AR     no       44\n",
      "       yes      11\n",
      "AZ     no       60\n",
      "       yes       4\n",
      "CA     no       25\n",
      "       yes       9\n",
      "CO     no       57\n",
      "       yes       9\n",
      "CT     no       62\n",
      "       yes      12\n",
      "DC     no       49\n",
      "       yes       5\n",
      "DE     no       52\n",
      "       yes       9\n",
      "FL     no       55\n",
      "       yes       8\n",
      "Name: Churn, dtype: int64\n",
      "State  Churn\n",
      "SD     no       52\n",
      "       yes       8\n",
      "TN     no       48\n",
      "       yes       5\n",
      "TX     no       54\n",
      "       yes      18\n",
      "UT     no       62\n",
      "       yes      10\n",
      "VA     no       72\n",
      "       yes       5\n",
      "VT     no       65\n",
      "       yes       8\n",
      "WA     no       52\n",
      "       yes      14\n",
      "WI     no       71\n",
      "       yes       7\n",
      "WV     no       96\n",
      "       yes      10\n",
      "WY     no       68\n",
      "       yes       9\n",
      "Name: Churn, dtype: int64\n"
     ]
    }
   ],
   "source": [
    "#Now that we have all of the colums we want, we have to decide how to handle the state data before we convert to binary \n",
    "#values.  \n",
    "\n",
    "print(df_new.groupby('State')['Churn'].value_counts().head(20))\n",
    "print(df_new.groupby('State')['Churn'].value_counts().tail(20))"
   ]
  },
  {
   "cell_type": "code",
   "execution_count": 56,
   "metadata": {},
   "outputs": [
    {
     "data": {
      "image/png": "[encoded data removed]",
      "text/plain": [
       "<Figure size 720x720 with 12 Axes>"
      ]
     },
     "metadata": {
      "needs_background": "light"
     },
     "output_type": "display_data"
    }
   ],
   "source": [
    "#We can see that different states have higher churn rates so some one-hot encoding would be the order of the day here. \n",
    "#But first, let's view some histograms.\n",
    "\n",
    "df_new.hist(figsize=(10,10))\n",
    "plt.subplots_adjust(hspace=0.5);"
   ]
  },
  {
   "cell_type": "code",
   "execution_count": 57,
   "metadata": {},
   "outputs": [
    {
     "name": "stdout",
     "output_type": "stream",
     "text": [
      "Account_Length      212\n",
      "Vmail_Message        46\n",
      "CustServ_Calls       10\n",
      "Churn                 2\n",
      "Intl_Plan             2\n",
      "Vmail_Plan            2\n",
      "Day_Charge         1667\n",
      "Eve_Charge         1440\n",
      "Night_Charge        933\n",
      "Intl_Charge         162\n",
      "State                51\n",
      "Avg_Day_Calls      3259\n",
      "Avg_Eve_Calls      3253\n",
      "Avg_Intl_Calls      781\n",
      "Avg_Night_Calls    3244\n",
      "dtype: int64\n"
     ]
    }
   ],
   "source": [
    "#Some of these values have a normal distribution but some are skewed, namely our new features. Voicemail messages\n",
    "#appear more categorical but let's check if they are relevant to the target first. We will need to standardize numerical\n",
    "#variabes.\n",
    "\n",
    "print(df_new.nunique())"
   ]
  },
  {
   "cell_type": "code",
   "execution_count": 58,
   "metadata": {},
   "outputs": [],
   "source": [
    "#Essentially, what we see here is that Intl_Plan, Vmail_Plan and State are our categorical variables.  Churn is our target\n",
    "#and should be removed before modeling.  First, we will standardize the numerical fields using StandardScaler by removing\n",
    "#the categorical variables.  For now, we will leave in the target so we can run a Decision Tree. First, we will one-hot \n",
    "#encode the states.\n",
    "\n",
    "df_state = pd.get_dummies(df['State'])\n",
    "state = ['State']\n",
    "cat = df_new.nunique()[df_new.nunique() < 3].keys().tolist()\n",
    "numerical = [x for x in df_new.columns if x not in cat + state]"
   ]
  },
  {
   "cell_type": "code",
   "execution_count": 59,
   "metadata": {},
   "outputs": [],
   "source": [
    "#Here, we will scale the numerical data.\n",
    "\n",
    "scaler = StandardScaler()\n",
    "df_scaled = scaler.fit_transform(df_new[numerical])\n",
    "df_scaled = pd.DataFrame(df_scaled, columns=numerical)"
   ]
  },
  {
   "cell_type": "code",
   "execution_count": 61,
   "metadata": {},
   "outputs": [
    {
     "name": "stdout",
     "output_type": "stream",
     "text": [
      "<class 'pandas.core.frame.DataFrame'>\n",
      "RangeIndex: 3333 entries, 0 to 3332\n",
      "Data columns (total 65 columns):\n",
      " #   Column           Non-Null Count  Dtype  \n",
      "---  ------           --------------  -----  \n",
      " 0   Churn            3333 non-null   object \n",
      " 1   Intl_Plan        3333 non-null   object \n",
      " 2   Vmail_Plan       3333 non-null   object \n",
      " 3   Account_Length   3333 non-null   float64\n",
      " 4   Vmail_Message    3333 non-null   float64\n",
      " 5   CustServ_Calls   3333 non-null   float64\n",
      " 6   Day_Charge       3333 non-null   float64\n",
      " 7   Eve_Charge       3333 non-null   float64\n",
      " 8   Night_Charge     3333 non-null   float64\n",
      " 9   Intl_Charge      3333 non-null   float64\n",
      " 10  Avg_Day_Calls    3331 non-null   float64\n",
      " 11  Avg_Eve_Calls    3332 non-null   float64\n",
      " 12  Avg_Intl_Calls   3315 non-null   float64\n",
      " 13  Avg_Night_Calls  3333 non-null   float64\n",
      " 14  AK               3333 non-null   uint8  \n",
      " 15  AL               3333 non-null   uint8  \n",
      " 16  AR               3333 non-null   uint8  \n",
      " 17  AZ               3333 non-null   uint8  \n",
      " 18  CA               3333 non-null   uint8  \n",
      " 19  CO               3333 non-null   uint8  \n",
      " 20  CT               3333 non-null   uint8  \n",
      " 21  DC               3333 non-null   uint8  \n",
      " 22  DE               3333 non-null   uint8  \n",
      " 23  FL               3333 non-null   uint8  \n",
      " 24  GA               3333 non-null   uint8  \n",
      " 25  HI               3333 non-null   uint8  \n",
      " 26  IA               3333 non-null   uint8  \n",
      " 27  ID               3333 non-null   uint8  \n",
      " 28  IL               3333 non-null   uint8  \n",
      " 29  IN               3333 non-null   uint8  \n",
      " 30  KS               3333 non-null   uint8  \n",
      " 31  KY               3333 non-null   uint8  \n",
      " 32  LA               3333 non-null   uint8  \n",
      " 33  MA               3333 non-null   uint8  \n",
      " 34  MD               3333 non-null   uint8  \n",
      " 35  ME               3333 non-null   uint8  \n",
      " 36  MI               3333 non-null   uint8  \n",
      " 37  MN               3333 non-null   uint8  \n",
      " 38  MO               3333 non-null   uint8  \n",
      " 39  MS               3333 non-null   uint8  \n",
      " 40  MT               3333 non-null   uint8  \n",
      " 41  NC               3333 non-null   uint8  \n",
      " 42  ND               3333 non-null   uint8  \n",
      " 43  NE               3333 non-null   uint8  \n",
      " 44  NH               3333 non-null   uint8  \n",
      " 45  NJ               3333 non-null   uint8  \n",
      " 46  NM               3333 non-null   uint8  \n",
      " 47  NV               3333 non-null   uint8  \n",
      " 48  NY               3333 non-null   uint8  \n",
      " 49  OH               3333 non-null   uint8  \n",
      " 50  OK               3333 non-null   uint8  \n",
      " 51  OR               3333 non-null   uint8  \n",
      " 52  PA               3333 non-null   uint8  \n",
      " 53  RI               3333 non-null   uint8  \n",
      " 54  SC               3333 non-null   uint8  \n",
      " 55  SD               3333 non-null   uint8  \n",
      " 56  TN               3333 non-null   uint8  \n",
      " 57  TX               3333 non-null   uint8  \n",
      " 58  UT               3333 non-null   uint8  \n",
      " 59  VA               3333 non-null   uint8  \n",
      " 60  VT               3333 non-null   uint8  \n",
      " 61  WA               3333 non-null   uint8  \n",
      " 62  WI               3333 non-null   uint8  \n",
      " 63  WV               3333 non-null   uint8  \n",
      " 64  WY               3333 non-null   uint8  \n",
      "dtypes: float64(11), object(3), uint8(51)\n",
      "memory usage: 530.7+ KB\n"
     ]
    }
   ],
   "source": [
    "#We will merge df_state, cat and numerical back together in a final dataframe and make categorical variables binary.\n",
    "\n",
    "categorical = df_new[['Churn', 'Intl_Plan', 'Vmail_Plan']]\n",
    "dff = pd.concat([categorical, df_scaled, df_state], axis = 1)\n",
    "dff.info()"
   ]
  },
  {
   "cell_type": "code",
   "execution_count": 62,
   "metadata": {},
   "outputs": [],
   "source": [
    "#Now we will convert our categorical variables and our target into binary variables and call a Decision Tree for EDA.\n",
    "\n",
    "dff['Vmail_Plan'] = dff['Vmail_Plan'].replace({'no':0, 'yes':1})\n",
    "dff['Intl_Plan'] = dff['Intl_Plan'].replace({'no':0, 'yes':1})\n",
    "dff['Churn'] = dff['Churn'].replace({'no':0, 'yes':1})"
   ]
  },
  {
   "cell_type": "code",
   "execution_count": 63,
   "metadata": {},
   "outputs": [
    {
     "data": {
      "text/html": [
       "<div>\n",
       "<style scoped>\n",
       "    .dataframe tbody tr th:only-of-type {\n",
       "        vertical-align: middle;\n",
       "    }\n",
       "\n",
       "    .dataframe tbody tr th {\n",
       "        vertical-align: top;\n",
       "    }\n",
       "\n",
       "    .dataframe thead th {\n",
       "        text-align: right;\n",
       "    }\n",
       "</style>\n",
       "<table border=\"1\" class=\"dataframe\">\n",
       "  <thead>\n",
       "    <tr style=\"text-align: right;\">\n",
       "      <th></th>\n",
       "      <th>Churn</th>\n",
       "      <th>Intl_Plan</th>\n",
       "      <th>Vmail_Plan</th>\n",
       "      <th>Account_Length</th>\n",
       "      <th>Vmail_Message</th>\n",
       "      <th>CustServ_Calls</th>\n",
       "      <th>Day_Charge</th>\n",
       "      <th>Eve_Charge</th>\n",
       "      <th>Night_Charge</th>\n",
       "      <th>Intl_Charge</th>\n",
       "      <th>...</th>\n",
       "      <th>SD</th>\n",
       "      <th>TN</th>\n",
       "      <th>TX</th>\n",
       "      <th>UT</th>\n",
       "      <th>VA</th>\n",
       "      <th>VT</th>\n",
       "      <th>WA</th>\n",
       "      <th>WI</th>\n",
       "      <th>WV</th>\n",
       "      <th>WY</th>\n",
       "    </tr>\n",
       "  </thead>\n",
       "  <tbody>\n",
       "    <tr>\n",
       "      <th>0</th>\n",
       "      <td>0</td>\n",
       "      <td>0</td>\n",
       "      <td>1</td>\n",
       "      <td>0.676489</td>\n",
       "      <td>1.234883</td>\n",
       "      <td>-0.427932</td>\n",
       "      <td>1.567036</td>\n",
       "      <td>-0.070427</td>\n",
       "      <td>0.866029</td>\n",
       "      <td>-0.085690</td>\n",
       "      <td>...</td>\n",
       "      <td>0</td>\n",
       "      <td>0</td>\n",
       "      <td>0</td>\n",
       "      <td>0</td>\n",
       "      <td>0</td>\n",
       "      <td>0</td>\n",
       "      <td>0</td>\n",
       "      <td>0</td>\n",
       "      <td>0</td>\n",
       "      <td>0</td>\n",
       "    </tr>\n",
       "    <tr>\n",
       "      <th>1</th>\n",
       "      <td>0</td>\n",
       "      <td>0</td>\n",
       "      <td>1</td>\n",
       "      <td>0.149065</td>\n",
       "      <td>1.307948</td>\n",
       "      <td>-0.427932</td>\n",
       "      <td>-0.334013</td>\n",
       "      <td>-0.107549</td>\n",
       "      <td>1.059390</td>\n",
       "      <td>1.241169</td>\n",
       "      <td>...</td>\n",
       "      <td>0</td>\n",
       "      <td>0</td>\n",
       "      <td>0</td>\n",
       "      <td>0</td>\n",
       "      <td>0</td>\n",
       "      <td>0</td>\n",
       "      <td>0</td>\n",
       "      <td>0</td>\n",
       "      <td>0</td>\n",
       "      <td>0</td>\n",
       "    </tr>\n",
       "    <tr>\n",
       "      <th>2</th>\n",
       "      <td>0</td>\n",
       "      <td>0</td>\n",
       "      <td>0</td>\n",
       "      <td>0.902529</td>\n",
       "      <td>-0.591760</td>\n",
       "      <td>-1.188218</td>\n",
       "      <td>1.168464</td>\n",
       "      <td>-1.573900</td>\n",
       "      <td>-0.755571</td>\n",
       "      <td>0.697156</td>\n",
       "      <td>...</td>\n",
       "      <td>0</td>\n",
       "      <td>0</td>\n",
       "      <td>0</td>\n",
       "      <td>0</td>\n",
       "      <td>0</td>\n",
       "      <td>0</td>\n",
       "      <td>0</td>\n",
       "      <td>0</td>\n",
       "      <td>0</td>\n",
       "      <td>0</td>\n",
       "    </tr>\n",
       "    <tr>\n",
       "      <th>3</th>\n",
       "      <td>0</td>\n",
       "      <td>1</td>\n",
       "      <td>0</td>\n",
       "      <td>-0.428590</td>\n",
       "      <td>-0.591760</td>\n",
       "      <td>0.332354</td>\n",
       "      <td>2.196759</td>\n",
       "      <td>-2.743268</td>\n",
       "      <td>-0.078806</td>\n",
       "      <td>-1.306401</td>\n",
       "      <td>...</td>\n",
       "      <td>0</td>\n",
       "      <td>0</td>\n",
       "      <td>0</td>\n",
       "      <td>0</td>\n",
       "      <td>0</td>\n",
       "      <td>0</td>\n",
       "      <td>0</td>\n",
       "      <td>0</td>\n",
       "      <td>0</td>\n",
       "      <td>0</td>\n",
       "    </tr>\n",
       "    <tr>\n",
       "      <th>4</th>\n",
       "      <td>0</td>\n",
       "      <td>1</td>\n",
       "      <td>0</td>\n",
       "      <td>-0.654629</td>\n",
       "      <td>-0.591760</td>\n",
       "      <td>1.092641</td>\n",
       "      <td>-0.240041</td>\n",
       "      <td>-1.037939</td>\n",
       "      <td>-0.276562</td>\n",
       "      <td>-0.045885</td>\n",
       "      <td>...</td>\n",
       "      <td>0</td>\n",
       "      <td>0</td>\n",
       "      <td>0</td>\n",
       "      <td>0</td>\n",
       "      <td>0</td>\n",
       "      <td>0</td>\n",
       "      <td>0</td>\n",
       "      <td>0</td>\n",
       "      <td>0</td>\n",
       "      <td>0</td>\n",
       "    </tr>\n",
       "  </tbody>\n",
       "</table>\n",
       "<p>5 rows × 65 columns</p>\n",
       "</div>"
      ],
      "text/plain": [
       "   Churn  Intl_Plan  Vmail_Plan  Account_Length  Vmail_Message  \\\n",
       "0      0          0           1        0.676489       1.234883   \n",
       "1      0          0           1        0.149065       1.307948   \n",
       "2      0          0           0        0.902529      -0.591760   \n",
       "3      0          1           0       -0.428590      -0.591760   \n",
       "4      0          1           0       -0.654629      -0.591760   \n",
       "\n",
       "   CustServ_Calls  Day_Charge  Eve_Charge  Night_Charge  Intl_Charge  ...  SD  \\\n",
       "0       -0.427932    1.567036   -0.070427      0.866029    -0.085690  ...   0   \n",
       "1       -0.427932   -0.334013   -0.107549      1.059390     1.241169  ...   0   \n",
       "2       -1.188218    1.168464   -1.573900     -0.755571     0.697156  ...   0   \n",
       "3        0.332354    2.196759   -2.743268     -0.078806    -1.306401  ...   0   \n",
       "4        1.092641   -0.240041   -1.037939     -0.276562    -0.045885  ...   0   \n",
       "\n",
       "   TN  TX  UT  VA  VT  WA  WI  WV  WY  \n",
       "0   0   0   0   0   0   0   0   0   0  \n",
       "1   0   0   0   0   0   0   0   0   0  \n",
       "2   0   0   0   0   0   0   0   0   0  \n",
       "3   0   0   0   0   0   0   0   0   0  \n",
       "4   0   0   0   0   0   0   0   0   0  \n",
       "\n",
       "[5 rows x 65 columns]"
      ]
     },
     "execution_count": 63,
     "metadata": {},
     "output_type": "execute_result"
    }
   ],
   "source": [
    "#Let's check our data with head() to ensure that we are ready for modeling.\n",
    "dff.head()"
   ]
  },
  {
   "cell_type": "code",
   "execution_count": 94,
   "metadata": {},
   "outputs": [
    {
     "name": "stdout",
     "output_type": "stream",
     "text": [
      "0.7497749774977498\n",
      "0.2502250225022502\n"
     ]
    }
   ],
   "source": [
    "#Now, we will define our target as X and the rest of dff as y and run a decision tree. This will be used for plotting and\n",
    "#visualization as opposed to assessing model performance. We will try a test size of 1/4 and check the split. \n",
    "y = dff['Churn']\n",
    "X = dff.drop(['Churn'], axis=1)\n",
    "X.replace([np.inf, -np.inf], np.nan, inplace=True)\n",
    "X.fillna(X.mean(), inplace=True)\n",
    "X_train, X_test, y_train, y_test = train_test_split(X, y, test_size=0.25)\n",
    "print(X_train.shape[0] / X.shape[0])\n",
    "print(X_test.shape[0] / X.shape[0])\n",
    "\n"
   ]
  },
  {
   "cell_type": "code",
   "execution_count": 97,
   "metadata": {},
   "outputs": [
    {
     "name": "stdout",
     "output_type": "stream",
     "text": [
      "Training accuracy:  0.966\n",
      "Test accuracy:  0.941\n"
     ]
    }
   ],
   "source": [
    "#Let's see what kind of tree we can get and what features the tree displays as important.\n",
    "clf = tree.DecisionTreeClassifier(max_depth = 7, criterion = 'gini', splitter = 'best')\n",
    "modelT = clf.fit(X_train, y_train)\n",
    "pred_y = modelT.predict(X_test)\n",
    "print(\"Training accuracy: \", np.round(clf.score(X_train, y_train), 3))\n",
    "print(\"Test accuracy: \", np.round(accuracy_score(y_test, pred_y), 3))\n"
   ]
  },
  {
   "cell_type": "code",
   "execution_count": 100,
   "metadata": {},
   "outputs": [
    {
     "name": "stdout",
     "output_type": "stream",
     "text": [
      "Test precision: 0.8165, Test recall: 0.7542\n"
     ]
    }
   ],
   "source": [
    "#Wow, that is a ridiculous test accuracy. I almost wonder if I am doing something wrong.  Let's check and print out the tree.\n",
    "\n",
    "test_precision = round(precision_score(y_test, pred_y), 4)\n",
    "test_recall = round(recall_score(y_test, pred_y), 4)\n",
    "print('Test precision: {}, Test recall: {}'.format(test_precision, test_recall))"
   ]
  },
  {
   "cell_type": "code",
   "execution_count": 103,
   "metadata": {},
   "outputs": [
    {
     "name": "stdout",
     "output_type": "stream",
     "text": [
      "    Max_Depth  Accuracy  Precision    Recall\n",
      "0         2.0  0.880096   0.590000  0.500000\n",
      "1         3.0  0.904077   0.816667  0.415254\n",
      "2         4.0  0.920863   0.833333  0.550847\n",
      "3         5.0  0.929257   0.756522  0.737288\n",
      "4         6.0  0.943645   0.819820  0.771186\n",
      "5         7.0  0.943645   0.831776  0.754237\n",
      "6         8.0  0.946043   0.861386  0.737288\n",
      "7         9.0  0.940048   0.826923  0.728814\n",
      "8        10.0  0.940048   0.826923  0.728814\n",
      "9        11.0  0.935252   0.807692  0.711864\n",
      "10       12.0  0.936451   0.798165  0.737288\n",
      "11       13.0  0.936451   0.798165  0.737288\n",
      "12       14.0  0.931655   0.769912  0.737288\n"
     ]
    }
   ],
   "source": [
    "#This is pretty good but let's optimize the tree.  \n",
    "depth_list = list(range(2, 15))\n",
    "depth_tuning = np.zeros((len(depth_list), 4))\n",
    "depth_tuning[:,0] = depth_list\n",
    "for index in range(len(depth_list)):\n",
    "    clf = DecisionTreeClassifier(max_depth=depth_list[index])\n",
    "    clf.fit(X_train, y_train)\n",
    "    pred_y = clf.predict(X_test)\n",
    "    depth_tuning[index,1] = accuracy_score(y_test, pred_y)\n",
    "    depth_tuning[index,2] = precision_score(y_test, pred_y)\n",
    "    depth_tuning[index,3] = recall_score(y_test, pred_y)\n",
    "col_names = ['Max_Depth', 'Accuracy', 'Precision', 'Recall']\n",
    "print(pd.DataFrame(depth_tuning, columns=col_names))"
   ]
  },
  {
   "cell_type": "code",
   "execution_count": 119,
   "metadata": {},
   "outputs": [
    {
     "data": {
      "text/plain": [
       "[Text(892.0923913043478, 1019.25, 'X[5] <= 1.555\\ngini = 0.249\\nsamples = 2499\\nvalue = [2134, 365]'),\n",
       " Text(598.9402173913043, 883.35, 'X[4] <= 1.473\\ngini = 0.203\\nsamples = 2337\\nvalue = [2069, 268]'),\n",
       " Text(404.3478260869565, 747.45, 'X[0] <= 0.5\\ngini = 0.146\\nsamples = 2149\\nvalue = [1978, 171]'),\n",
       " Text(242.60869565217388, 611.55, 'X[5] <= 0.815\\ngini = 0.094\\nsamples = 1949\\nvalue = [1853, 96]'),\n",
       " Text(131.41304347826085, 475.65, 'X[6] <= 2.826\\ngini = 0.056\\nsamples = 1675\\nvalue = [1627, 48]'),\n",
       " Text(80.8695652173913, 339.75, 'X[6] <= -0.635\\ngini = 0.054\\nsamples = 1671\\nvalue = [1625, 46]'),\n",
       " Text(40.43478260869565, 203.85000000000002, 'X[54] <= 0.5\\ngini = 0.017\\nsamples = 472\\nvalue = [468, 4]'),\n",
       " Text(20.217391304347824, 67.95000000000005, 'gini = 0.009\\nsamples = 465\\nvalue = [463, 2]'),\n",
       " Text(60.65217391304347, 67.95000000000005, 'gini = 0.408\\nsamples = 7\\nvalue = [5, 2]'),\n",
       " Text(121.30434782608694, 203.85000000000002, 'X[6] <= -0.626\\ngini = 0.068\\nsamples = 1199\\nvalue = [1157, 42]'),\n",
       " Text(101.08695652173913, 67.95000000000005, 'gini = 0.444\\nsamples = 6\\nvalue = [4, 2]'),\n",
       " Text(141.52173913043478, 67.95000000000005, 'gini = 0.065\\nsamples = 1193\\nvalue = [1153, 40]'),\n",
       " Text(181.9565217391304, 339.75, 'X[9] <= -0.199\\ngini = 0.5\\nsamples = 4\\nvalue = [2, 2]'),\n",
       " Text(161.7391304347826, 203.85000000000002, 'gini = 0.0\\nsamples = 2\\nvalue = [0, 2]'),\n",
       " Text(202.17391304347825, 203.85000000000002, 'gini = 0.0\\nsamples = 2\\nvalue = [2, 0]'),\n",
       " Text(353.80434782608694, 475.65, 'X[6] <= 0.794\\ngini = 0.289\\nsamples = 274\\nvalue = [226, 48]'),\n",
       " Text(283.04347826086956, 339.75, 'X[12] <= 1.325\\ngini = 0.13\\nsamples = 214\\nvalue = [199, 15]'),\n",
       " Text(242.60869565217388, 203.85000000000002, 'X[8] <= 2.508\\ngini = 0.08\\nsamples = 192\\nvalue = [184, 8]'),\n",
       " Text(222.39130434782606, 67.95000000000005, 'gini = 0.071\\nsamples = 191\\nvalue = [184, 7]'),\n",
       " Text(262.8260869565217, 67.95000000000005, 'gini = 0.0\\nsamples = 1\\nvalue = [0, 1]'),\n",
       " Text(323.4782608695652, 203.85000000000002, 'X[5] <= 1.254\\ngini = 0.434\\nsamples = 22\\nvalue = [15, 7]'),\n",
       " Text(303.2608695652174, 67.95000000000005, 'gini = 0.142\\nsamples = 13\\nvalue = [12, 1]'),\n",
       " Text(343.695652173913, 67.95000000000005, 'gini = 0.444\\nsamples = 9\\nvalue = [3, 6]'),\n",
       " Text(424.5652173913043, 339.75, 'X[1] <= 0.5\\ngini = 0.495\\nsamples = 60\\nvalue = [27, 33]'),\n",
       " Text(404.3478260869565, 203.85000000000002, 'X[7] <= -0.527\\ngini = 0.44\\nsamples = 49\\nvalue = [16, 33]'),\n",
       " Text(384.1304347826087, 67.95000000000005, 'gini = 0.355\\nsamples = 13\\nvalue = [10, 3]'),\n",
       " Text(424.5652173913043, 67.95000000000005, 'gini = 0.278\\nsamples = 36\\nvalue = [6, 30]'),\n",
       " Text(444.78260869565213, 203.85000000000002, 'gini = 0.0\\nsamples = 11\\nvalue = [11, 0]'),\n",
       " Text(566.0869565217391, 611.55, 'X[11] <= 0.548\\ngini = 0.469\\nsamples = 200\\nvalue = [125, 75]'),\n",
       " Text(545.8695652173913, 475.65, 'X[8] <= 1.022\\ngini = 0.33\\nsamples = 158\\nvalue = [125, 33]'),\n",
       " Text(525.6521739130434, 339.75, 'X[6] <= 1.923\\ngini = 0.16\\nsamples = 137\\nvalue = [125, 12]'),\n",
       " Text(485.21739130434776, 203.85000000000002, 'X[32] <= 0.5\\ngini = 0.117\\nsamples = 128\\nvalue = [120, 8]'),\n",
       " Text(464.99999999999994, 67.95000000000005, 'gini = 0.079\\nsamples = 122\\nvalue = [117, 5]'),\n",
       " Text(505.4347826086956, 67.95000000000005, 'gini = 0.5\\nsamples = 6\\nvalue = [3, 3]'),\n",
       " Text(566.0869565217391, 203.85000000000002, 'X[5] <= 0.54\\ngini = 0.494\\nsamples = 9\\nvalue = [5, 4]'),\n",
       " Text(545.8695652173913, 67.95000000000005, 'gini = 0.278\\nsamples = 6\\nvalue = [5, 1]'),\n",
       " Text(586.3043478260869, 67.95000000000005, 'gini = 0.0\\nsamples = 3\\nvalue = [0, 3]'),\n",
       " Text(566.0869565217391, 339.75, 'gini = 0.0\\nsamples = 21\\nvalue = [0, 21]'),\n",
       " Text(586.3043478260869, 475.65, 'gini = 0.0\\nsamples = 42\\nvalue = [0, 42]'),\n",
       " Text(793.5326086956521, 747.45, 'X[5] <= -0.359\\ngini = 0.499\\nsamples = 188\\nvalue = [91, 97]'),\n",
       " Text(727.8260869565216, 611.55, 'X[6] <= 1.239\\ngini = 0.226\\nsamples = 77\\nvalue = [10, 67]'),\n",
       " Text(687.391304347826, 475.65, 'X[27] <= 0.5\\ngini = 0.133\\nsamples = 70\\nvalue = [5, 65]'),\n",
       " Text(667.1739130434783, 339.75, 'X[24] <= 0.5\\ngini = 0.084\\nsamples = 68\\nvalue = [3, 65]'),\n",
       " Text(646.9565217391304, 203.85000000000002, 'X[18] <= 0.5\\ngini = 0.058\\nsamples = 67\\nvalue = [2, 65]'),\n",
       " Text(626.7391304347825, 67.95000000000005, 'gini = 0.03\\nsamples = 65\\nvalue = [1, 64]'),\n",
       " Text(667.1739130434783, 67.95000000000005, 'gini = 0.5\\nsamples = 2\\nvalue = [1, 1]'),\n",
       " Text(687.391304347826, 203.85000000000002, 'gini = 0.0\\nsamples = 1\\nvalue = [1, 0]'),\n",
       " Text(707.6086956521739, 339.75, 'gini = 0.0\\nsamples = 2\\nvalue = [2, 0]'),\n",
       " Text(768.2608695652174, 475.65, 'X[12] <= -0.122\\ngini = 0.408\\nsamples = 7\\nvalue = [5, 2]'),\n",
       " Text(748.0434782608695, 339.75, 'X[61] <= 0.5\\ngini = 0.444\\nsamples = 3\\nvalue = [1, 2]'),\n",
       " Text(727.8260869565216, 203.85000000000002, 'gini = 0.0\\nsamples = 2\\nvalue = [0, 2]'),\n",
       " Text(768.2608695652174, 203.85000000000002, 'gini = 0.0\\nsamples = 1\\nvalue = [1, 0]'),\n",
       " Text(788.4782608695651, 339.75, 'gini = 0.0\\nsamples = 4\\nvalue = [4, 0]'),\n",
       " Text(859.2391304347825, 611.55, 'X[6] <= -1.299\\ngini = 0.394\\nsamples = 111\\nvalue = [81, 30]'),\n",
       " Text(839.0217391304348, 475.65, 'gini = 0.0\\nsamples = 10\\nvalue = [0, 10]'),\n",
       " Text(879.4565217391304, 475.65, 'X[5] <= 0.008\\ngini = 0.318\\nsamples = 101\\nvalue = [81, 20]'),\n",
       " Text(828.9130434782608, 339.75, 'X[6] <= 0.22\\ngini = 0.495\\nsamples = 29\\nvalue = [16, 13]'),\n",
       " Text(808.695652173913, 203.85000000000002, 'X[5] <= -0.335\\ngini = 0.231\\nsamples = 15\\nvalue = [2, 13]'),\n",
       " Text(788.4782608695651, 67.95000000000005, 'gini = 0.0\\nsamples = 1\\nvalue = [1, 0]'),\n",
       " Text(828.9130434782608, 67.95000000000005, 'gini = 0.133\\nsamples = 14\\nvalue = [1, 13]'),\n",
       " Text(849.1304347826086, 203.85000000000002, 'gini = 0.0\\nsamples = 14\\nvalue = [14, 0]'),\n",
       " Text(929.9999999999999, 339.75, 'X[7] <= 1.176\\ngini = 0.176\\nsamples = 72\\nvalue = [65, 7]'),\n",
       " Text(889.5652173913043, 203.85000000000002, 'X[38] <= 0.5\\ngini = 0.092\\nsamples = 62\\nvalue = [59, 3]'),\n",
       " Text(869.3478260869565, 67.95000000000005, 'gini = 0.063\\nsamples = 61\\nvalue = [59, 2]'),\n",
       " Text(909.7826086956521, 67.95000000000005, 'gini = 0.0\\nsamples = 1\\nvalue = [0, 1]'),\n",
       " Text(970.4347826086955, 203.85000000000002, 'X[6] <= 0.381\\ngini = 0.48\\nsamples = 10\\nvalue = [6, 4]'),\n",
       " Text(950.2173913043478, 67.95000000000005, 'gini = 0.0\\nsamples = 5\\nvalue = [5, 0]'),\n",
       " Text(990.6521739130434, 67.95000000000005, 'gini = 0.32\\nsamples = 5\\nvalue = [1, 4]'),\n",
       " Text(1185.2445652173913, 883.35, 'X[1] <= 0.5\\ngini = 0.48\\nsamples = 162\\nvalue = [65, 97]'),\n",
       " Text(1056.3586956521738, 747.45, 'X[6] <= -0.877\\ngini = 0.364\\nsamples = 121\\nvalue = [29, 92]'),\n",
       " Text(970.4347826086955, 611.55, 'X[0] <= 0.5\\ngini = 0.278\\nsamples = 18\\nvalue = [15, 3]'),\n",
       " Text(950.2173913043478, 475.65, 'gini = 0.0\\nsamples = 14\\nvalue = [14, 0]'),\n",
       " Text(990.6521739130434, 475.65, 'X[8] <= -0.842\\ngini = 0.375\\nsamples = 4\\nvalue = [1, 3]'),\n",
       " Text(970.4347826086955, 339.75, 'gini = 0.0\\nsamples = 1\\nvalue = [1, 0]'),\n",
       " Text(1010.8695652173913, 339.75, 'gini = 0.0\\nsamples = 3\\nvalue = [0, 3]'),\n",
       " Text(1142.282608695652, 611.55, 'X[12] <= -1.254\\ngini = 0.235\\nsamples = 103\\nvalue = [14, 89]'),\n",
       " Text(1071.5217391304348, 475.65, 'X[11] <= -0.022\\ngini = 0.408\\nsamples = 7\\nvalue = [5, 2]'),\n",
       " Text(1051.3043478260868, 339.75, 'gini = 0.0\\nsamples = 4\\nvalue = [4, 0]'),\n",
       " Text(1091.7391304347825, 339.75, 'X[7] <= -2.048\\ngini = 0.444\\nsamples = 3\\nvalue = [1, 2]'),\n",
       " Text(1071.5217391304348, 203.85000000000002, 'gini = 0.0\\nsamples = 1\\nvalue = [1, 0]'),\n",
       " Text(1111.9565217391303, 203.85000000000002, 'gini = 0.0\\nsamples = 2\\nvalue = [0, 2]'),\n",
       " Text(1213.0434782608695, 475.65, 'X[27] <= 0.5\\ngini = 0.17\\nsamples = 96\\nvalue = [9, 87]'),\n",
       " Text(1192.8260869565217, 339.75, 'X[10] <= -0.987\\ngini = 0.121\\nsamples = 93\\nvalue = [6, 87]'),\n",
       " Text(1152.391304347826, 203.85000000000002, 'X[57] <= 0.5\\ngini = 0.444\\nsamples = 3\\nvalue = [2, 1]'),\n",
       " Text(1132.1739130434783, 67.95000000000005, 'gini = 0.0\\nsamples = 2\\nvalue = [2, 0]'),\n",
       " Text(1172.6086956521738, 67.95000000000005, 'gini = 0.0\\nsamples = 1\\nvalue = [0, 1]'),\n",
       " Text(1233.2608695652173, 203.85000000000002, 'X[7] <= -0.771\\ngini = 0.085\\nsamples = 90\\nvalue = [4, 86]'),\n",
       " Text(1213.0434782608695, 67.95000000000005, 'gini = 0.32\\nsamples = 15\\nvalue = [3, 12]'),\n",
       " Text(1253.478260869565, 67.95000000000005, 'gini = 0.026\\nsamples = 75\\nvalue = [1, 74]'),\n",
       " Text(1233.2608695652173, 339.75, 'gini = 0.0\\nsamples = 3\\nvalue = [3, 0]'),\n",
       " Text(1314.1304347826085, 747.45, 'X[0] <= 0.5\\ngini = 0.214\\nsamples = 41\\nvalue = [36, 5]'),\n",
       " Text(1273.695652173913, 611.55, 'X[43] <= 0.5\\ngini = 0.054\\nsamples = 36\\nvalue = [35, 1]'),\n",
       " Text(1253.478260869565, 475.65, 'gini = 0.0\\nsamples = 35\\nvalue = [35, 0]'),\n",
       " Text(1293.9130434782608, 475.65, 'gini = 0.0\\nsamples = 1\\nvalue = [0, 1]'),\n",
       " Text(1354.5652173913043, 611.55, 'X[5] <= 2.208\\ngini = 0.32\\nsamples = 5\\nvalue = [1, 4]'),\n",
       " Text(1334.3478260869565, 475.65, 'gini = 0.0\\nsamples = 4\\nvalue = [0, 4]'),\n",
       " Text(1374.782608695652, 475.65, 'gini = 0.0\\nsamples = 1\\nvalue = [1, 0]')]"
      ]
     },
     "execution_count": 119,
     "metadata": {},
     "output_type": "execute_result"
    },
    {
     "data": {
      "image/png": "[encoded data removed]",
      "text/plain": [
       "<Figure size 1800x1440 with 1 Axes>"
      ]
     },
     "metadata": {
      "needs_background": "light"
     },
     "output_type": "display_data"
    }
   ],
   "source": [
    "#We can see that somewhere between 6 and 8 is advantageous. We will stick with our results. Next, we will determine which \n",
    "#features the decision tree finds to be most influential and plot the tree.\n",
    "\n",
    "clf = tree.DecisionTreeClassifier(max_depth = 7, criterion = 'gini', splitter = 'best')\n",
    "modelT = clf.fit(X_train, y_train)\n",
    "fig = plt.figure(figsize=(25,20))\n",
    "tree.plot_tree(clf, filled=True)\n",
    "\n",
    "\n",
    "\n"
   ]
  },
  {
   "cell_type": "code",
   "execution_count": 120,
   "metadata": {},
   "outputs": [
    {
     "name": "stdout",
     "output_type": "stream",
     "text": [
      "Test accuracy for logistic regression:  0.9317\n"
     ]
    }
   ],
   "source": [
    "#Well, that's not going to help.  On to logisic regression where we can use information to determine best features.\n",
    "\n",
    "logreg = LogisticRegression()\n",
    "logreg.fit(X_train, y_train)\n",
    "test_accuracy = accuracy_score(y_test, pred_y)\n",
    "print('Test accuracy for logistic regression: ', round(test_accuracy, 4))\n"
   ]
  },
  {
   "cell_type": "code",
   "execution_count": 123,
   "metadata": {},
   "outputs": [
    {
     "name": "stdout",
     "output_type": "stream",
     "text": [
      "       C  Non-Zero Coefficients  Accuracy  Precision    Recall\n",
      "0  1.000                   51.0  0.858513   0.500000  0.237288\n",
      "1  0.500                   40.0  0.862110   0.528302  0.237288\n",
      "2  0.250                   19.0  0.862110   0.531915  0.211864\n",
      "3  0.100                   10.0  0.863309   0.555556  0.169492\n",
      "4  0.050                   10.0  0.860911   0.541667  0.110169\n",
      "5  0.025                    7.0  0.860911   0.750000  0.025424\n",
      "6  0.010                    2.0  0.858513   0.000000  0.000000\n",
      "7  0.005                    0.0  0.858513   0.000000  0.000000\n"
     ]
    },
    {
     "name": "stderr",
     "output_type": "stream",
     "text": [
      "C:\\Users\\Owner\\anaconda3\\lib\\site-packages\\sklearn\\metrics\\_classification.py:1221: UndefinedMetricWarning: Precision is ill-defined and being set to 0.0 due to no predicted samples. Use `zero_division` parameter to control this behavior.\n",
      "  _warn_prf(average, modifier, msg_start, len(result))\n",
      "C:\\Users\\Owner\\anaconda3\\lib\\site-packages\\sklearn\\metrics\\_classification.py:1221: UndefinedMetricWarning: Precision is ill-defined and being set to 0.0 due to no predicted samples. Use `zero_division` parameter to control this behavior.\n",
      "  _warn_prf(average, modifier, msg_start, len(result))\n"
     ]
    }
   ],
   "source": [
    "#The accuracy is not quite as good as the decision tree but we cannot rely on just one tree.  Let's see if we can \n",
    "#optimize the logistic regression model with lasso regularization that helps with overfitting and maybe some feature selection.\n",
    "\n",
    "C = [1, 0.5, 0.25, 0.1, 0.05, 0.025, 0.01, 0.005]\n",
    "l1_metrics = np.zeros((len(C), 5))\n",
    "l1_metrics[:,0] = C\n",
    "for index in range(0, len(C)):\n",
    "    logreg = LogisticRegression(penalty = 'l1', C=C[index], solver='liblinear')\n",
    "    logreg.fit(X_train, y_train)\n",
    "    pred_Y = logreg.predict(X_test)\n",
    "    l1_metrics[index, 1] = np.count_nonzero(logreg.coef_)\n",
    "    l1_metrics[index, 2] = accuracy_score(y_test, pred_Y)\n",
    "    l1_metrics[index, 3] = precision_score(y_test, pred_Y)\n",
    "    l1_metrics[index, 4] = recall_score(y_test, pred_Y)\n",
    "col_names = ['C', 'Non-Zero Coefficients', 'Accuracy', 'Precision', 'Recall']\n",
    "print(pd.DataFrame(l1_metrics, columns=col_names))\n"
   ]
  },
  {
   "cell_type": "code",
   "execution_count": 125,
   "metadata": {},
   "outputs": [
    {
     "name": "stdout",
     "output_type": "stream",
     "text": [
      "       Feature  Coefficient  Exp_Coefficient\n",
      "1   Vmail_Plan    -2.312057         0.099057\n",
      "27          IL    -1.697850         0.183077\n",
      "24          HI    -1.672179         0.187837\n",
      "58          VA    -1.376488         0.252464\n",
      "25          IA    -1.102801         0.331940\n",
      "..         ...          ...              ...\n",
      "5   Day_Charge     0.775002         2.170596\n",
      "17          CA     0.895359         2.448215\n",
      "38          MS     1.011817         2.750593\n",
      "53          SC     1.117446         3.057037\n",
      "0    Intl_Plan     2.235910         9.354987\n",
      "\n",
      "[61 rows x 3 columns]\n"
     ]
    }
   ],
   "source": [
    "#Well, not much can be said with such low recall numbers.  At 7 coefficients, precision is high but recall is really low.\n",
    "# A value of 10 may be good choice.  There must be lot of false negatives in this model.  \n",
    "\n",
    "logreg = LogisticRegression(penalty = 'l1', C=8, solver='liblinear')\n",
    "logreg.fit(X_train, y_train)\n",
    "pred_y = logreg.predict(X_test)\n",
    "feature_names = pd.DataFrame(X_train.columns, columns = ['Feature'])\n",
    "log_coef = pd.DataFrame(np.transpose(logreg.coef_), columns = ['Coefficient'])\n",
    "coefficients = pd.concat([feature_names, log_coef], axis = 1)\n",
    "coefficients['Exp_Coefficient'] = np.exp(coefficients['Coefficient'])\n",
    "coefficients = coefficients[coefficients['Coefficient']!=0]\n",
    "print(coefficients.sort_values(by=['Exp_Coefficient']))\n",
    "                           "
   ]
  },
  {
   "cell_type": "code",
   "execution_count": 130,
   "metadata": {},
   "outputs": [
    {
     "name": "stdout",
     "output_type": "stream",
     "text": [
      "0.9376498800959233\n"
     ]
    }
   ],
   "source": [
    "#Looks like the Voicemail plan may have something to do with churn but what about Illinois and Hawaii?  Are these regions\n",
    "#susceptible to churn?  Let's get our data into a Random Forest Model.  \n",
    "\n",
    "clf = RandomForestClassifier()\n",
    "clf.fit(X_train, y_train)\n",
    "pred_y = clf.predict(X_test)\n",
    "print(clf.score(X_test, y_test))"
   ]
  },
  {
   "cell_type": "code",
   "execution_count": 131,
   "metadata": {},
   "outputs": [
    {
     "name": "stdout",
     "output_type": "stream",
     "text": [
      "0.9376498800959233\n"
     ]
    }
   ],
   "source": [
    "#Ok, let's check a support vector machine classifier and compare the two.\n",
    "clf_svm = SVC()\n",
    "clf_svm.fit(X_train, y_train)\n",
    "pred_y = clf.predict(X_test)\n",
    "print(clf.score(X_test, y_test))"
   ]
  },
  {
   "cell_type": "code",
   "execution_count": 132,
   "metadata": {},
   "outputs": [
    {
     "name": "stdout",
     "output_type": "stream",
     "text": [
      "[[712   4]\n",
      " [ 48  70]]\n",
      "0.9459459459459459\n",
      "0.5932203389830508\n"
     ]
    },
    {
     "data": {
      "image/png": "[encoded data removed]",
      "text/plain": [
       "<Figure size 432x288 with 1 Axes>"
      ]
     },
     "metadata": {
      "needs_background": "light"
     },
     "output_type": "display_data"
    }
   ],
   "source": [
    "#That is quite interesting and maybe the data has been overfit.  Let's go with the Random Forest and find out. \n",
    "#Let's take a look at a confusion matrix which will give us a sense of true and false positives and negatives and the\n",
    "#ROC curve\n",
    "\n",
    "clf = RandomForestClassifier()\n",
    "clf.fit(X_train, y_train)\n",
    "pred_y = clf.predict(X_test)\n",
    "print(confusion_matrix(y_test, pred_y))\n",
    "print(precision_score(y_test, pred_y))\n",
    "print(recall_score(y_test, pred_y))\n",
    "\n",
    "y_pred_prob = clf.predict_proba(X_test)[:, 1]\n",
    "fpr, tpr, thresholds = roc_curve(y_test, y_pred_prob)\n",
    "\n",
    "plt.plot(fpr, tpr)\n",
    "\n",
    "# Add labels and diagonal line\n",
    "plt.xlabel(\"False Positive Rate\")\n",
    "plt.ylabel(\"True Positive Rate\")\n",
    "plt.plot([0, 1], [0, 1], \"k--\")\n",
    "plt.show()\n"
   ]
  },
  {
   "cell_type": "code",
   "execution_count": 133,
   "metadata": {},
   "outputs": [
    {
     "name": "stdout",
     "output_type": "stream",
     "text": [
      "0.9191127734116088\n"
     ]
    }
   ],
   "source": [
    "#Let's take a look at the area under the ROC curve.\n",
    "\n",
    "print(roc_auc_score(y_test, y_pred_prob))"
   ]
  },
  {
   "cell_type": "code",
   "execution_count": 135,
   "metadata": {},
   "outputs": [
    {
     "name": "stdout",
     "output_type": "stream",
     "text": [
      "0.7291666666666666\n"
     ]
    }
   ],
   "source": [
    "#Now we will view the F1 score which is precision and recall in a single metric.\n",
    "\n",
    "print(f1_score(y_test, pred_y))"
   ]
  },
  {
   "cell_type": "code",
   "execution_count": 136,
   "metadata": {},
   "outputs": [
    {
     "name": "stdout",
     "output_type": "stream",
     "text": [
      "{'bootstrap': False, 'criterion': 'entropy', 'max_depth': None, 'max_features': 10}\n"
     ]
    }
   ],
   "source": [
    "#The Random Forest Classifier seems to be a pretty good model. Now, we are going to use a cross-validation method to \n",
    "#optimize the model called GridSearchCV.  \n",
    "\n",
    "param_grid = {\"max_depth\": [3, None],\n",
    "              \"max_features\": [1, 3, 10],\n",
    "              \"bootstrap\": [True, False],\n",
    "              \"criterion\": [\"gini\", \"entropy\"]}\n",
    "grid_search = GridSearchCV(clf, param_grid)\n",
    "grid_search.fit(X, y)\n",
    "print(grid_search.best_params_)\n"
   ]
  },
  {
   "cell_type": "code",
   "execution_count": 140,
   "metadata": {},
   "outputs": [
    {
     "data": {
      "image/png": "[encoded data removed]",
      "text/plain": [
       "<Figure size 432x288 with 1 Axes>"
      ]
     },
     "metadata": {
      "needs_background": "light"
     },
     "output_type": "display_data"
    }
   ],
   "source": [
    "#Now, we will take a look at important features.\n",
    "\n",
    "importances = clf.feature_importances_\n",
    "sorted_index = np.argsort(importances)\n",
    "\n",
    "labels = X.columns[sorted_index]\n",
    "\n",
    "plt.barh(range(X.shape[1]), importances[sorted_index], tick_label=labels)\n",
    "plt.show()"
   ]
  },
  {
   "cell_type": "code",
   "execution_count": 141,
   "metadata": {},
   "outputs": [
    {
     "data": {
      "text/html": [
       "<div>\n",
       "<style scoped>\n",
       "    .dataframe tbody tr th:only-of-type {\n",
       "        vertical-align: middle;\n",
       "    }\n",
       "\n",
       "    .dataframe tbody tr th {\n",
       "        vertical-align: top;\n",
       "    }\n",
       "\n",
       "    .dataframe thead th {\n",
       "        text-align: right;\n",
       "    }\n",
       "</style>\n",
       "<table border=\"1\" class=\"dataframe\">\n",
       "  <thead>\n",
       "    <tr style=\"text-align: right;\">\n",
       "      <th></th>\n",
       "      <th>Churn</th>\n",
       "      <th>Intl_Plan</th>\n",
       "      <th>Vmail_Plan</th>\n",
       "      <th>Account_Length</th>\n",
       "      <th>Vmail_Message</th>\n",
       "      <th>CustServ_Calls</th>\n",
       "      <th>Day_Charge</th>\n",
       "      <th>Eve_Charge</th>\n",
       "      <th>Night_Charge</th>\n",
       "      <th>Intl_Charge</th>\n",
       "      <th>Avg_Day_Calls</th>\n",
       "      <th>Avg_Eve_Calls</th>\n",
       "      <th>Avg_Intl_Calls</th>\n",
       "      <th>Avg_Night_Calls</th>\n",
       "    </tr>\n",
       "  </thead>\n",
       "  <tbody>\n",
       "    <tr>\n",
       "      <th>0</th>\n",
       "      <td>0</td>\n",
       "      <td>0</td>\n",
       "      <td>1</td>\n",
       "      <td>0.676489</td>\n",
       "      <td>1.234883</td>\n",
       "      <td>-0.427932</td>\n",
       "      <td>1.567036</td>\n",
       "      <td>-0.070427</td>\n",
       "      <td>0.866029</td>\n",
       "      <td>-0.085690</td>\n",
       "      <td>0.734786</td>\n",
       "      <td>-0.141600</td>\n",
       "      <td>0.097745</td>\n",
       "      <td>0.841837</td>\n",
       "    </tr>\n",
       "    <tr>\n",
       "      <th>1</th>\n",
       "      <td>0</td>\n",
       "      <td>0</td>\n",
       "      <td>1</td>\n",
       "      <td>0.149065</td>\n",
       "      <td>1.307948</td>\n",
       "      <td>-0.427932</td>\n",
       "      <td>-0.334013</td>\n",
       "      <td>-0.107549</td>\n",
       "      <td>1.059390</td>\n",
       "      <td>1.241169</td>\n",
       "      <td>-0.763862</td>\n",
       "      <td>-0.265233</td>\n",
       "      <td>0.643354</td>\n",
       "      <td>0.533006</td>\n",
       "    </tr>\n",
       "    <tr>\n",
       "      <th>2</th>\n",
       "      <td>0</td>\n",
       "      <td>0</td>\n",
       "      <td>0</td>\n",
       "      <td>0.902529</td>\n",
       "      <td>-0.591760</td>\n",
       "      <td>-1.188218</td>\n",
       "      <td>1.168464</td>\n",
       "      <td>-1.573900</td>\n",
       "      <td>-0.755571</td>\n",
       "      <td>0.697156</td>\n",
       "      <td>0.358938</td>\n",
       "      <td>-1.291940</td>\n",
       "      <td>-0.297454</td>\n",
       "      <td>-0.744616</td>\n",
       "    </tr>\n",
       "    <tr>\n",
       "      <th>3</th>\n",
       "      <td>0</td>\n",
       "      <td>1</td>\n",
       "      <td>0</td>\n",
       "      <td>-0.428590</td>\n",
       "      <td>-0.591760</td>\n",
       "      <td>0.332354</td>\n",
       "      <td>2.196759</td>\n",
       "      <td>-2.743268</td>\n",
       "      <td>-0.078806</td>\n",
       "      <td>-1.306401</td>\n",
       "      <td>3.205103</td>\n",
       "      <td>-1.805666</td>\n",
       "      <td>-0.959769</td>\n",
       "      <td>0.170001</td>\n",
       "    </tr>\n",
       "    <tr>\n",
       "      <th>4</th>\n",
       "      <td>0</td>\n",
       "      <td>1</td>\n",
       "      <td>0</td>\n",
       "      <td>-0.654629</td>\n",
       "      <td>-0.591760</td>\n",
       "      <td>1.092641</td>\n",
       "      <td>-0.240041</td>\n",
       "      <td>-1.037939</td>\n",
       "      <td>-0.276562</td>\n",
       "      <td>-0.045885</td>\n",
       "      <td>-0.543203</td>\n",
       "      <td>-1.145258</td>\n",
       "      <td>0.112491</td>\n",
       "      <td>-0.771162</td>\n",
       "    </tr>\n",
       "  </tbody>\n",
       "</table>\n",
       "</div>"
      ],
      "text/plain": [
       "   Churn  Intl_Plan  Vmail_Plan  Account_Length  Vmail_Message  \\\n",
       "0      0          0           1        0.676489       1.234883   \n",
       "1      0          0           1        0.149065       1.307948   \n",
       "2      0          0           0        0.902529      -0.591760   \n",
       "3      0          1           0       -0.428590      -0.591760   \n",
       "4      0          1           0       -0.654629      -0.591760   \n",
       "\n",
       "   CustServ_Calls  Day_Charge  Eve_Charge  Night_Charge  Intl_Charge  \\\n",
       "0       -0.427932    1.567036   -0.070427      0.866029    -0.085690   \n",
       "1       -0.427932   -0.334013   -0.107549      1.059390     1.241169   \n",
       "2       -1.188218    1.168464   -1.573900     -0.755571     0.697156   \n",
       "3        0.332354    2.196759   -2.743268     -0.078806    -1.306401   \n",
       "4        1.092641   -0.240041   -1.037939     -0.276562    -0.045885   \n",
       "\n",
       "   Avg_Day_Calls  Avg_Eve_Calls  Avg_Intl_Calls  Avg_Night_Calls  \n",
       "0       0.734786      -0.141600        0.097745         0.841837  \n",
       "1      -0.763862      -0.265233        0.643354         0.533006  \n",
       "2       0.358938      -1.291940       -0.297454        -0.744616  \n",
       "3       3.205103      -1.805666       -0.959769         0.170001  \n",
       "4      -0.543203      -1.145258        0.112491        -0.771162  "
      ]
     },
     "execution_count": 141,
     "metadata": {},
     "output_type": "execute_result"
    }
   ],
   "source": [
    "#We can clearly see that state features are not as important as other features in a random forest.  Let's drop those.\n",
    "\n",
    "dfff = pd.concat([categorical, df_scaled], axis = 1)\n",
    "dfff['Vmail_Plan'] = dfff['Vmail_Plan'].replace({'no':0, 'yes':1})\n",
    "dfff['Intl_Plan'] = dfff['Intl_Plan'].replace({'no':0, 'yes':1})\n",
    "dfff['Churn'] = dfff['Churn'].replace({'no':0, 'yes':1})\n",
    "dfff.head()"
   ]
  },
  {
   "cell_type": "code",
   "execution_count": 145,
   "metadata": {},
   "outputs": [
    {
     "name": "stdout",
     "output_type": "stream",
     "text": [
      "0.7497749774977498\n",
      "0.2502250225022502\n"
     ]
    }
   ],
   "source": [
    "#We will run it all again with the final dataframe and see what the results are after we create a new partition.\n",
    "\n",
    "y = dfff['Churn']\n",
    "X = dfff.drop(['Churn'], axis=1)\n",
    "X.replace([np.inf, -np.inf], np.nan, inplace=True)\n",
    "X.fillna(X.mean(), inplace=True)\n",
    "X_train, X_test, y_train, y_test = train_test_split(X, y, test_size=0.25)\n",
    "print(X_train.shape[0] / X.shape[0])\n",
    "print(X_test.shape[0] / X.shape[0])\n"
   ]
  },
  {
   "cell_type": "code",
   "execution_count": 146,
   "metadata": {},
   "outputs": [
    {
     "name": "stdout",
     "output_type": "stream",
     "text": [
      "0.9376498800959233\n",
      "[[696   6]\n",
      " [ 46  86]]\n",
      "0.9347826086956522\n",
      "0.6515151515151515\n"
     ]
    },
    {
     "data": {
      "image/png": "[encoded data removed]",
      "text/plain": [
       "<Figure size 432x288 with 1 Axes>"
      ]
     },
     "metadata": {
      "needs_background": "light"
     },
     "output_type": "display_data"
    },
    {
     "name": "stdout",
     "output_type": "stream",
     "text": [
      "0.924549987049987\n",
      "0.7678571428571428\n"
     ]
    }
   ],
   "source": [
    "#Let's take a look at a confusion matrix which will give us a sense of true and false positives and negatives and the\n",
    "#ROC curve forthe final dataframe with states removed.\n",
    "\n",
    "clf = RandomForestClassifier()\n",
    "clf.fit(X_train, y_train)\n",
    "pred_y = clf.predict(X_test)\n",
    "print(clf.score(X_test, y_test))\n",
    "print(confusion_matrix(y_test, pred_y))\n",
    "print(precision_score(y_test, pred_y))\n",
    "print(recall_score(y_test, pred_y))\n",
    "\n",
    "y_pred_prob = clf.predict_proba(X_test)[:, 1]\n",
    "fpr, tpr, thresholds = roc_curve(y_test, y_pred_prob)\n",
    "\n",
    "plt.plot(fpr, tpr)\n",
    "\n",
    "# Add labels and diagonal line\n",
    "plt.xlabel(\"False Positive Rate\")\n",
    "plt.ylabel(\"True Positive Rate\")\n",
    "plt.plot([0, 1], [0, 1], \"k--\")\n",
    "plt.show()\n",
    "\n",
    "print(roc_auc_score(y_test, y_pred_prob))\n",
    "print(f1_score(y_test, pred_y))\n"
   ]
  },
  {
   "cell_type": "code",
   "execution_count": 147,
   "metadata": {},
   "outputs": [
    {
     "name": "stdout",
     "output_type": "stream",
     "text": [
      "{'bootstrap': True, 'criterion': 'entropy', 'max_depth': None, 'max_features': 10}\n"
     ]
    }
   ],
   "source": [
    "# The numbers are relatively similar so let's look at the best parameters and best features. Now, we are going to \n",
    "#use GridSearchCV on the final dataframe.  \n",
    "\n",
    "param_grid = {\"max_depth\": [3, None],\n",
    "              \"max_features\": [1, 3, 10],\n",
    "              \"bootstrap\": [True, False],\n",
    "              \"criterion\": [\"gini\", \"entropy\"]}\n",
    "grid_search = GridSearchCV(clf, param_grid)\n",
    "grid_search.fit(X, y)\n",
    "print(grid_search.best_params_)"
   ]
  },
  {
   "cell_type": "code",
   "execution_count": 148,
   "metadata": {},
   "outputs": [
    {
     "name": "stdout",
     "output_type": "stream",
     "text": [
      "0.9496402877697842\n",
      "[[696   6]\n",
      " [ 36  96]]\n",
      "0.9411764705882353\n",
      "0.7272727272727273\n"
     ]
    },
    {
     "data": {
      "image/png": "[encoded data removed]",
      "text/plain": [
       "<Figure size 432x288 with 1 Axes>"
      ]
     },
     "metadata": {
      "needs_background": "light"
     },
     "output_type": "display_data"
    },
    {
     "name": "stdout",
     "output_type": "stream",
     "text": [
      "0.9095765345765345\n",
      "0.8205128205128205\n"
     ]
    }
   ],
   "source": [
    "#Interesting,the bootstrap changed to the default! Let's run the Random Forest Classifier with these hyperparams!\n",
    "\n",
    "clf = RandomForestClassifier(criterion = 'entropy', max_features = 10)\n",
    "clf.fit(X_train, y_train)\n",
    "pred_y = clf.predict(X_test)\n",
    "print(clf.score(X_test, y_test))\n",
    "print(confusion_matrix(y_test, pred_y))\n",
    "print(precision_score(y_test, pred_y))\n",
    "print(recall_score(y_test, pred_y))\n",
    "\n",
    "y_pred_prob = clf.predict_proba(X_test)[:, 1]\n",
    "fpr, tpr, thresholds = roc_curve(y_test, y_pred_prob)\n",
    "\n",
    "plt.plot(fpr, tpr)\n",
    "\n",
    "# Add labels and diagonal line\n",
    "plt.xlabel(\"False Positive Rate\")\n",
    "plt.ylabel(\"True Positive Rate\")\n",
    "plt.plot([0, 1], [0, 1], \"k--\")\n",
    "plt.show()\n",
    "\n",
    "print(roc_auc_score(y_test, y_pred_prob))\n",
    "print(f1_score(y_test, pred_y))\n",
    "\n"
   ]
  },
  {
   "cell_type": "code",
   "execution_count": 149,
   "metadata": {},
   "outputs": [
    {
     "data": {
      "image/png": "[encoded data removed]",
      "text/plain": [
       "<Figure size 432x288 with 1 Axes>"
      ]
     },
     "metadata": {
      "needs_background": "light"
     },
     "output_type": "display_data"
    }
   ],
   "source": [
    "#Finally, we will observe the most predictive features of the Random Forest Model.\n",
    "\n",
    "importances = clf.feature_importances_\n",
    "sorted_index = np.argsort(importances)\n",
    "\n",
    "labels = X.columns[sorted_index]\n",
    "\n",
    "plt.barh(range(X.shape[1]), importances[sorted_index], tick_label=labels)\n",
    "plt.show()"
   ]
  }
 ],
 "metadata": {
  "kernelspec": {
   "display_name": "Python 3",
   "language": "python",
   "name": "python3"
  },
  "language_info": {
   "codemirror_mode": {
    "name": "ipython",
    "version": 3
   },
   "file_extension": ".py",
   "mimetype": "text/x-python",
   "name": "python",
   "nbconvert_exporter": "python",
   "pygments_lexer": "ipython3",
   "version": "3.8.3"
  }
 },
 "nbformat": 4,
 "nbformat_minor": 4
}
